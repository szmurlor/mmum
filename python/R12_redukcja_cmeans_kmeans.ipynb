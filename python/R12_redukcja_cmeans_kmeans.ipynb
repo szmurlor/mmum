{
 "cells": [
  {
   "cell_type": "code",
   "execution_count": 84,
   "id": "0340dd18-7ab6-4375-a896-48c11a66585a",
   "metadata": {},
   "outputs": [
    {
     "ename": "SyntaxError",
     "evalue": "invalid syntax (2813579603.py, line 11)",
     "output_type": "error",
     "traceback": [
      "\u001b[1;36m  Cell \u001b[1;32mIn[84], line 11\u001b[1;36m\u001b[0m\n\u001b[1;33m    x=[2+0.5*randn(10,2);\u001b[0m\n\u001b[1;37m                        ^\u001b[0m\n\u001b[1;31mSyntaxError\u001b[0m\u001b[1;31m:\u001b[0m invalid syntax\n"
     ]
    }
   ],
   "source": [
    "\n",
    "\n",
    "from skfda.ml.clustering import FuzzyCMeans, KMeans\n",
    "\n",
    "x=[2+0.5*randn(10,2); \n",
    "   -1+0.3*randn(7,2); \n",
    "   0.5+0.4*randn(7,2)]\n",
    "[C,U,obj_fcn]=fcm(x,3);\n",
    "[IDX,C_kmeans]=kmeans(x,3)\n",
    "\n",
    "fuzzy_kmeans = FuzzyCMeans(n_clusters=n_clusters, random_state=seed)\n",
    "fuzzy_kmeans.fit(fd)\n",
    "print(fuzzy_kmeans.predict_proba(fd))"
   ]
  },
  {
   "cell_type": "code",
   "execution_count": 95,
   "id": "d362c642-0c86-4d54-9ac2-00d8df32175e",
   "metadata": {},
   "outputs": [
    {
     "name": "stdout",
     "output_type": "stream",
     "text": [
      "[[[-1.05360877]\n",
      "  [-0.81239043]]\n",
      "\n",
      " [[ 0.26899698]\n",
      "  [ 0.5756238 ]]\n",
      "\n",
      " [[ 2.05107578]\n",
      "  [ 1.74308859]]]\n",
      "[[[-1.03902234]\n",
      "  [-0.80736884]]\n",
      "\n",
      " [[ 0.29095716]\n",
      "  [ 0.60200712]]\n",
      "\n",
      " [[ 2.06552417]\n",
      "  [ 1.71460421]]]\n"
     ]
    },
    {
     "data": {
      "text/plain": [
       "<matplotlib.legend.Legend at 0x21f3aa14ac0>"
      ]
     },
     "execution_count": 95,
     "metadata": {},
     "output_type": "execute_result"
    },
    {
     "data": {
      "image/png": "[encoded data removed]",
      "text/plain": [
       "<Figure size 640x480 with 1 Axes>"
      ]
     },
     "metadata": {},
     "output_type": "display_data"
    }
   ],
   "source": [
    "# !conda install -c conda-forge scikit-fda\n",
    "#\n",
    "# [1] Ramos-Carreño, et al. (2019). \n",
    "# GAA-UAM/scikit-fda: Functional Data \n",
    "# Analysis in Python \n",
    "# [Computer software]. \n",
    "#https://doi.org/10.5281/zenodo.3468127\n",
    "\n",
    "import numpy as np\n",
    "import matplotlib.pyplot as plt\n",
    "from skfda.ml.clustering import FuzzyCMeans, KMeans\n",
    "from skfda import FDataGrid\n",
    "\n",
    "X = np.concatenate( ( 2+0.5*np.random.randn(10,2),\n",
    "                 -1+0.3*np.random.randn(7 ,2),\n",
    "                 0.5+0.4*np.random.randn(7 ,2)),\n",
    "                 axis=0)\n",
    "d = np.concatenate( (np.ones(10),\n",
    "                     2*np.ones(7),\n",
    "                     3*np.ones(7)) )\n",
    "plt.scatter(X[:10,0], X[:10,1])\n",
    "plt.scatter(X[10:17,0], X[10:17,1])\n",
    "plt.scatter(X[17:,0], X[17:,1])\n",
    "\n",
    "fd = FDataGrid(X)\n",
    "\n",
    "fuzzy_kmeans = FuzzyCMeans(n_clusters=3)\n",
    "fuzzy_kmeans.fit(fd)\n",
    "print(fuzzy_kmeans.cluster_centers_.data_matrix)\n",
    "plt.scatter(\n",
    "    fuzzy_kmeans.cluster_centers_.data_matrix[:,0], \n",
    "    fuzzy_kmeans.cluster_centers_.data_matrix[:,1], \n",
    "    color='k', marker='+', s=200)\n",
    "\n",
    "kmeans = KMeans(n_clusters=3)\n",
    "kmeans.fit(fd)\n",
    "print(kmeans.cluster_centers_.data_matrix)\n",
    "plt.scatter(kmeans.cluster_centers_.data_matrix[:,0], \n",
    "            kmeans.cluster_centers_.data_matrix[:,1],\n",
    "            color='k', marker='s', s=100)\n",
    "\n",
    "plt.legend(('Klasa 1', 'Klasa 2', 'Klasa 3', \n",
    "            'cMeans', 'kMeans'))"
   ]
  },
  {
   "cell_type": "code",
   "execution_count": 62,
   "id": "5367cd8a-d239-40ca-a49c-56ddeaf0c0e3",
   "metadata": {},
   "outputs": [
    {
     "data": {
      "text/plain": [
       "array([[-1.03153314],\n",
       "       [ 0.53735514],\n",
       "       [ 1.74261308]])"
      ]
     },
     "execution_count": 62,
     "metadata": {},
     "output_type": "execute_result"
    }
   ],
   "source": [
    "dir(fuzzy_kmeans)\n",
    "fuzzy_kmeans.cluster_centers_.data_matrix[:,0]"
   ]
  },
  {
   "cell_type": "code",
   "execution_count": 68,
   "id": "759036ca-90cd-4d2c-a468-a19622becd4a",
   "metadata": {},
   "outputs": [
    {
     "data": {
      "text/plain": [
       "array([2, 2, 2, 2, 2, 2, 2, 0, 2, 2, 1, 1, 1, 1, 1, 1, 1, 0, 0, 0, 0, 0,\n",
       "       0, 0], dtype=int64)"
      ]
     },
     "execution_count": 68,
     "metadata": {},
     "output_type": "execute_result"
    }
   ],
   "source": [
    "fuzzy_kmeans.labels_"
   ]
  }
 ],
 "metadata": {
  "kernelspec": {
   "display_name": "Python 3 (ipykernel)",
   "language": "python",
   "name": "python3"
  },
  "language_info": {
   "codemirror_mode": {
    "name": "ipython",
    "version": 3
   },
   "file_extension": ".py",
   "mimetype": "text/x-python",
   "name": "python",
   "nbconvert_exporter": "python",
   "pygments_lexer": "ipython3",
   "version": "3.10.9"
  }
 },
 "nbformat": 4,
 "nbformat_minor": 5
}
